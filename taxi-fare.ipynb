{
 "cells": [
  {
   "cell_type": "code",
   "execution_count": 5,
   "id": "9ed10130",
   "metadata": {},
   "outputs": [],
   "source": [
    "import numpy as np\n",
    "import pandas as pd\n",
    "import matplotlib.pyplot as plt\n",
    "import seaborn as sns\n",
    "from sklearn import metrics\n",
    "sns.set()"
   ]
  },
  {
   "cell_type": "code",
   "execution_count": 97,
   "id": "fcf50977",
   "metadata": {},
   "outputs": [
    {
     "name": "stdout",
     "output_type": "stream",
     "text": [
      "--2022-07-14 12:03:56--  https://raw.githubusercontent.com/Premalatha-success/Datasets/main/TaxiFare.csv\n",
      "Loaded CA certificate '/etc/ssl/certs/ca-certificates.crt'\n",
      "Resolving raw.githubusercontent.com (raw.githubusercontent.com)... 2606:50c0:8003::154, 2606:50c0:8000::154, 2606:50c0:8001::154, ...\n",
      "Connecting to raw.githubusercontent.com (raw.githubusercontent.com)|2606:50c0:8003::154|:443... connected.\n",
      "HTTP request sent, awaiting response... 200 OK\n",
      "Length: 4011195 (3.8M) [text/plain]\n",
      "Saving to: ‘TaxiFare.csv’\n",
      "\n",
      "TaxiFare.csv        100%[===================>]   3.83M   307KB/s    in 16s     \n",
      "\n",
      "2022-07-14 12:04:14 (241 KB/s) - ‘TaxiFare.csv’ saved [4011195/4011195]\n",
      "\n"
     ]
    }
   ],
   "source": [
    "!wget \"https://raw.githubusercontent.com/Premalatha-success/Datasets/main/TaxiFare.csv\""
   ]
  },
  {
   "cell_type": "code",
   "execution_count": 98,
   "id": "15714fd4",
   "metadata": {},
   "outputs": [],
   "source": [
    "df = pd.read_csv('TaxiFare.csv')"
   ]
  },
  {
   "cell_type": "code",
   "execution_count": 99,
   "id": "183a993f",
   "metadata": {},
   "outputs": [
    {
     "name": "stdout",
     "output_type": "stream",
     "text": [
      "<class 'pandas.core.frame.DataFrame'>\n",
      "RangeIndex: 50000 entries, 0 to 49999\n",
      "Data columns (total 8 columns):\n",
      " #   Column                Non-Null Count  Dtype  \n",
      "---  ------                --------------  -----  \n",
      " 0   unique_id             50000 non-null  object \n",
      " 1   amount                50000 non-null  float64\n",
      " 2   date_time_of_pickup   50000 non-null  object \n",
      " 3   longitude_of_pickup   50000 non-null  float64\n",
      " 4   latitude_of_pickup    50000 non-null  float64\n",
      " 5   longitude_of_dropoff  50000 non-null  float64\n",
      " 6   latitude_of_dropoff   50000 non-null  float64\n",
      " 7   no_of_passenger       50000 non-null  int64  \n",
      "dtypes: float64(5), int64(1), object(2)\n",
      "memory usage: 3.1+ MB\n"
     ]
    },
    {
     "data": {
      "text/html": [
       "<div>\n",
       "<style scoped>\n",
       "    .dataframe tbody tr th:only-of-type {\n",
       "        vertical-align: middle;\n",
       "    }\n",
       "\n",
       "    .dataframe tbody tr th {\n",
       "        vertical-align: top;\n",
       "    }\n",
       "\n",
       "    .dataframe thead th {\n",
       "        text-align: right;\n",
       "    }\n",
       "</style>\n",
       "<table border=\"1\" class=\"dataframe\">\n",
       "  <thead>\n",
       "    <tr style=\"text-align: right;\">\n",
       "      <th></th>\n",
       "      <th>unique_id</th>\n",
       "      <th>amount</th>\n",
       "      <th>date_time_of_pickup</th>\n",
       "      <th>longitude_of_pickup</th>\n",
       "      <th>latitude_of_pickup</th>\n",
       "      <th>longitude_of_dropoff</th>\n",
       "      <th>latitude_of_dropoff</th>\n",
       "      <th>no_of_passenger</th>\n",
       "    </tr>\n",
       "  </thead>\n",
       "  <tbody>\n",
       "    <tr>\n",
       "      <th>49995</th>\n",
       "      <td>25:15.0</td>\n",
       "      <td>15.0</td>\n",
       "      <td>2013-06-12 23:25:15 UTC</td>\n",
       "      <td>-73.999973</td>\n",
       "      <td>40.748531</td>\n",
       "      <td>-74.016899</td>\n",
       "      <td>40.705993</td>\n",
       "      <td>1</td>\n",
       "    </tr>\n",
       "    <tr>\n",
       "      <th>49996</th>\n",
       "      <td>19:18.0</td>\n",
       "      <td>7.5</td>\n",
       "      <td>2015-06-22 17:19:18 UTC</td>\n",
       "      <td>-73.984756</td>\n",
       "      <td>40.768211</td>\n",
       "      <td>-73.987366</td>\n",
       "      <td>40.760597</td>\n",
       "      <td>1</td>\n",
       "    </tr>\n",
       "    <tr>\n",
       "      <th>49997</th>\n",
       "      <td>53:00.0</td>\n",
       "      <td>6.9</td>\n",
       "      <td>2011-01-30 04:53:00 UTC</td>\n",
       "      <td>-74.002698</td>\n",
       "      <td>40.739428</td>\n",
       "      <td>-73.998108</td>\n",
       "      <td>40.759483</td>\n",
       "      <td>1</td>\n",
       "    </tr>\n",
       "    <tr>\n",
       "      <th>49998</th>\n",
       "      <td>09:00.0</td>\n",
       "      <td>4.5</td>\n",
       "      <td>2012-11-06 07:09:00 UTC</td>\n",
       "      <td>-73.946062</td>\n",
       "      <td>40.777567</td>\n",
       "      <td>-73.953450</td>\n",
       "      <td>40.779687</td>\n",
       "      <td>2</td>\n",
       "    </tr>\n",
       "    <tr>\n",
       "      <th>49999</th>\n",
       "      <td>13:14.0</td>\n",
       "      <td>10.9</td>\n",
       "      <td>2010-01-13 08:13:14 UTC</td>\n",
       "      <td>-73.932603</td>\n",
       "      <td>40.763805</td>\n",
       "      <td>-73.932603</td>\n",
       "      <td>40.763805</td>\n",
       "      <td>1</td>\n",
       "    </tr>\n",
       "  </tbody>\n",
       "</table>\n",
       "</div>"
      ],
      "text/plain": [
       "      unique_id  amount      date_time_of_pickup  longitude_of_pickup  \\\n",
       "49995   25:15.0    15.0  2013-06-12 23:25:15 UTC           -73.999973   \n",
       "49996   19:18.0     7.5  2015-06-22 17:19:18 UTC           -73.984756   \n",
       "49997   53:00.0     6.9  2011-01-30 04:53:00 UTC           -74.002698   \n",
       "49998   09:00.0     4.5  2012-11-06 07:09:00 UTC           -73.946062   \n",
       "49999   13:14.0    10.9  2010-01-13 08:13:14 UTC           -73.932603   \n",
       "\n",
       "       latitude_of_pickup  longitude_of_dropoff  latitude_of_dropoff  \\\n",
       "49995           40.748531            -74.016899            40.705993   \n",
       "49996           40.768211            -73.987366            40.760597   \n",
       "49997           40.739428            -73.998108            40.759483   \n",
       "49998           40.777567            -73.953450            40.779687   \n",
       "49999           40.763805            -73.932603            40.763805   \n",
       "\n",
       "       no_of_passenger  \n",
       "49995                1  \n",
       "49996                1  \n",
       "49997                1  \n",
       "49998                2  \n",
       "49999                1  "
      ]
     },
     "execution_count": 99,
     "metadata": {},
     "output_type": "execute_result"
    }
   ],
   "source": [
    "##Basic Stuff\n",
    "df.info()\n",
    "df.head(5)\n",
    "df.tail()\n"
   ]
  },
  {
   "cell_type": "code",
   "execution_count": 100,
   "id": "d8e27836",
   "metadata": {
    "scrolled": true
   },
   "outputs": [
    {
     "data": {
      "text/plain": [
       "unique_id               0\n",
       "amount                  0\n",
       "date_time_of_pickup     0\n",
       "longitude_of_pickup     0\n",
       "latitude_of_pickup      0\n",
       "longitude_of_dropoff    0\n",
       "latitude_of_dropoff     0\n",
       "no_of_passenger         0\n",
       "dtype: int64"
      ]
     },
     "execution_count": 100,
     "metadata": {},
     "output_type": "execute_result"
    }
   ],
   "source": [
    "##Check null values\n",
    "df.isnull().sum()"
   ]
  },
  {
   "cell_type": "code",
   "execution_count": 101,
   "id": "a4841c80",
   "metadata": {
    "scrolled": true
   },
   "outputs": [
    {
     "data": {
      "text/html": [
       "<div>\n",
       "<style scoped>\n",
       "    .dataframe tbody tr th:only-of-type {\n",
       "        vertical-align: middle;\n",
       "    }\n",
       "\n",
       "    .dataframe tbody tr th {\n",
       "        vertical-align: top;\n",
       "    }\n",
       "\n",
       "    .dataframe thead th {\n",
       "        text-align: right;\n",
       "    }\n",
       "</style>\n",
       "<table border=\"1\" class=\"dataframe\">\n",
       "  <thead>\n",
       "    <tr style=\"text-align: right;\">\n",
       "      <th></th>\n",
       "      <th>count</th>\n",
       "      <th>mean</th>\n",
       "      <th>std</th>\n",
       "      <th>min</th>\n",
       "      <th>25%</th>\n",
       "      <th>50%</th>\n",
       "      <th>75%</th>\n",
       "      <th>max</th>\n",
       "    </tr>\n",
       "  </thead>\n",
       "  <tbody>\n",
       "    <tr>\n",
       "      <th>amount</th>\n",
       "      <td>50000.0</td>\n",
       "      <td>11.364171</td>\n",
       "      <td>9.685557</td>\n",
       "      <td>-5.000000</td>\n",
       "      <td>6.000000</td>\n",
       "      <td>8.500000</td>\n",
       "      <td>12.500000</td>\n",
       "      <td>200.000000</td>\n",
       "    </tr>\n",
       "    <tr>\n",
       "      <th>longitude_of_pickup</th>\n",
       "      <td>50000.0</td>\n",
       "      <td>-72.509756</td>\n",
       "      <td>10.393860</td>\n",
       "      <td>-75.423848</td>\n",
       "      <td>-73.992062</td>\n",
       "      <td>-73.981840</td>\n",
       "      <td>-73.967148</td>\n",
       "      <td>40.783472</td>\n",
       "    </tr>\n",
       "    <tr>\n",
       "      <th>latitude_of_pickup</th>\n",
       "      <td>50000.0</td>\n",
       "      <td>39.933759</td>\n",
       "      <td>6.224857</td>\n",
       "      <td>-74.006893</td>\n",
       "      <td>40.734880</td>\n",
       "      <td>40.752678</td>\n",
       "      <td>40.767360</td>\n",
       "      <td>401.083332</td>\n",
       "    </tr>\n",
       "    <tr>\n",
       "      <th>longitude_of_dropoff</th>\n",
       "      <td>50000.0</td>\n",
       "      <td>-72.504616</td>\n",
       "      <td>10.407570</td>\n",
       "      <td>-84.654241</td>\n",
       "      <td>-73.991152</td>\n",
       "      <td>-73.980082</td>\n",
       "      <td>-73.963584</td>\n",
       "      <td>40.851027</td>\n",
       "    </tr>\n",
       "    <tr>\n",
       "      <th>latitude_of_dropoff</th>\n",
       "      <td>50000.0</td>\n",
       "      <td>39.926251</td>\n",
       "      <td>6.014737</td>\n",
       "      <td>-74.006377</td>\n",
       "      <td>40.734372</td>\n",
       "      <td>40.753372</td>\n",
       "      <td>40.768167</td>\n",
       "      <td>43.415190</td>\n",
       "    </tr>\n",
       "    <tr>\n",
       "      <th>no_of_passenger</th>\n",
       "      <td>50000.0</td>\n",
       "      <td>1.667840</td>\n",
       "      <td>1.289195</td>\n",
       "      <td>0.000000</td>\n",
       "      <td>1.000000</td>\n",
       "      <td>1.000000</td>\n",
       "      <td>2.000000</td>\n",
       "      <td>6.000000</td>\n",
       "    </tr>\n",
       "  </tbody>\n",
       "</table>\n",
       "</div>"
      ],
      "text/plain": [
       "                        count       mean        std        min        25%  \\\n",
       "amount                50000.0  11.364171   9.685557  -5.000000   6.000000   \n",
       "longitude_of_pickup   50000.0 -72.509756  10.393860 -75.423848 -73.992062   \n",
       "latitude_of_pickup    50000.0  39.933759   6.224857 -74.006893  40.734880   \n",
       "longitude_of_dropoff  50000.0 -72.504616  10.407570 -84.654241 -73.991152   \n",
       "latitude_of_dropoff   50000.0  39.926251   6.014737 -74.006377  40.734372   \n",
       "no_of_passenger       50000.0   1.667840   1.289195   0.000000   1.000000   \n",
       "\n",
       "                            50%        75%         max  \n",
       "amount                 8.500000  12.500000  200.000000  \n",
       "longitude_of_pickup  -73.981840 -73.967148   40.783472  \n",
       "latitude_of_pickup    40.752678  40.767360  401.083332  \n",
       "longitude_of_dropoff -73.980082 -73.963584   40.851027  \n",
       "latitude_of_dropoff   40.753372  40.768167   43.415190  \n",
       "no_of_passenger        1.000000   2.000000    6.000000  "
      ]
     },
     "execution_count": 101,
     "metadata": {},
     "output_type": "execute_result"
    }
   ],
   "source": [
    "##Features in tabular format\n",
    "df.describe().T ##transpose"
   ]
  },
  {
   "cell_type": "code",
   "execution_count": 102,
   "id": "11ed3b5f",
   "metadata": {},
   "outputs": [
    {
     "data": {
      "text/plain": [
       "unique_id                object\n",
       "amount                  float64\n",
       "date_time_of_pickup      object\n",
       "longitude_of_pickup     float64\n",
       "latitude_of_pickup      float64\n",
       "longitude_of_dropoff    float64\n",
       "latitude_of_dropoff     float64\n",
       "no_of_passenger           int64\n",
       "dtype: object"
      ]
     },
     "execution_count": 102,
     "metadata": {},
     "output_type": "execute_result"
    }
   ],
   "source": [
    "df.dtypes"
   ]
  },
  {
   "cell_type": "code",
   "execution_count": 103,
   "id": "ec5aa997",
   "metadata": {},
   "outputs": [
    {
     "name": "stdout",
     "output_type": "stream",
     "text": [
      "Fare amount greater than 10$ : 19558\n"
     ]
    },
    {
     "data": {
      "text/html": [
       "<div>\n",
       "<style scoped>\n",
       "    .dataframe tbody tr th:only-of-type {\n",
       "        vertical-align: middle;\n",
       "    }\n",
       "\n",
       "    .dataframe tbody tr th {\n",
       "        vertical-align: top;\n",
       "    }\n",
       "\n",
       "    .dataframe thead th {\n",
       "        text-align: right;\n",
       "    }\n",
       "</style>\n",
       "<table border=\"1\" class=\"dataframe\">\n",
       "  <thead>\n",
       "    <tr style=\"text-align: right;\">\n",
       "      <th></th>\n",
       "      <th>unique_id</th>\n",
       "      <th>amount</th>\n",
       "      <th>date_time_of_pickup</th>\n",
       "      <th>longitude_of_pickup</th>\n",
       "      <th>latitude_of_pickup</th>\n",
       "      <th>longitude_of_dropoff</th>\n",
       "      <th>latitude_of_dropoff</th>\n",
       "      <th>no_of_passenger</th>\n",
       "    </tr>\n",
       "  </thead>\n",
       "  <tbody>\n",
       "    <tr>\n",
       "      <th>1</th>\n",
       "      <td>52:16.0</td>\n",
       "      <td>16.9</td>\n",
       "      <td>2010-01-05 16:52:16 UTC</td>\n",
       "      <td>-74.016048</td>\n",
       "      <td>40.711303</td>\n",
       "      <td>-73.979268</td>\n",
       "      <td>40.782004</td>\n",
       "      <td>1</td>\n",
       "    </tr>\n",
       "    <tr>\n",
       "      <th>5</th>\n",
       "      <td>50:45.0</td>\n",
       "      <td>12.1</td>\n",
       "      <td>2011-01-06 09:50:45 UTC</td>\n",
       "      <td>-74.000964</td>\n",
       "      <td>40.731630</td>\n",
       "      <td>-73.972892</td>\n",
       "      <td>40.758233</td>\n",
       "      <td>1</td>\n",
       "    </tr>\n",
       "    <tr>\n",
       "      <th>7</th>\n",
       "      <td>22:00.0</td>\n",
       "      <td>16.5</td>\n",
       "      <td>2012-01-04 17:22:00 UTC</td>\n",
       "      <td>-73.951300</td>\n",
       "      <td>40.774138</td>\n",
       "      <td>-73.990095</td>\n",
       "      <td>40.751048</td>\n",
       "      <td>1</td>\n",
       "    </tr>\n",
       "    <tr>\n",
       "      <th>16</th>\n",
       "      <td>22:00.0</td>\n",
       "      <td>12.5</td>\n",
       "      <td>2014-02-19 07:22:00 UTC</td>\n",
       "      <td>-73.986430</td>\n",
       "      <td>40.760465</td>\n",
       "      <td>-73.988990</td>\n",
       "      <td>40.737075</td>\n",
       "      <td>1</td>\n",
       "    </tr>\n",
       "    <tr>\n",
       "      <th>20</th>\n",
       "      <td>18:00.0</td>\n",
       "      <td>10.5</td>\n",
       "      <td>2010-09-07 13:18:00 UTC</td>\n",
       "      <td>-73.985382</td>\n",
       "      <td>40.747858</td>\n",
       "      <td>-73.978377</td>\n",
       "      <td>40.762070</td>\n",
       "      <td>1</td>\n",
       "    </tr>\n",
       "    <tr>\n",
       "      <th>...</th>\n",
       "      <td>...</td>\n",
       "      <td>...</td>\n",
       "      <td>...</td>\n",
       "      <td>...</td>\n",
       "      <td>...</td>\n",
       "      <td>...</td>\n",
       "      <td>...</td>\n",
       "      <td>...</td>\n",
       "    </tr>\n",
       "    <tr>\n",
       "      <th>49987</th>\n",
       "      <td>24:00.0</td>\n",
       "      <td>16.5</td>\n",
       "      <td>2014-03-17 11:24:00 UTC</td>\n",
       "      <td>-73.992928</td>\n",
       "      <td>40.748422</td>\n",
       "      <td>-73.963497</td>\n",
       "      <td>40.774297</td>\n",
       "      <td>1</td>\n",
       "    </tr>\n",
       "    <tr>\n",
       "      <th>49989</th>\n",
       "      <td>42:00.0</td>\n",
       "      <td>17.3</td>\n",
       "      <td>2011-12-07 21:42:00 UTC</td>\n",
       "      <td>-73.998573</td>\n",
       "      <td>40.719868</td>\n",
       "      <td>-73.967462</td>\n",
       "      <td>40.793382</td>\n",
       "      <td>1</td>\n",
       "    </tr>\n",
       "    <tr>\n",
       "      <th>49991</th>\n",
       "      <td>56:19.0</td>\n",
       "      <td>10.5</td>\n",
       "      <td>2013-10-17 19:56:19 UTC</td>\n",
       "      <td>-73.991685</td>\n",
       "      <td>40.739494</td>\n",
       "      <td>-73.985357</td>\n",
       "      <td>40.731971</td>\n",
       "      <td>1</td>\n",
       "    </tr>\n",
       "    <tr>\n",
       "      <th>49995</th>\n",
       "      <td>25:15.0</td>\n",
       "      <td>15.0</td>\n",
       "      <td>2013-06-12 23:25:15 UTC</td>\n",
       "      <td>-73.999973</td>\n",
       "      <td>40.748531</td>\n",
       "      <td>-74.016899</td>\n",
       "      <td>40.705993</td>\n",
       "      <td>1</td>\n",
       "    </tr>\n",
       "    <tr>\n",
       "      <th>49999</th>\n",
       "      <td>13:14.0</td>\n",
       "      <td>10.9</td>\n",
       "      <td>2010-01-13 08:13:14 UTC</td>\n",
       "      <td>-73.932603</td>\n",
       "      <td>40.763805</td>\n",
       "      <td>-73.932603</td>\n",
       "      <td>40.763805</td>\n",
       "      <td>1</td>\n",
       "    </tr>\n",
       "  </tbody>\n",
       "</table>\n",
       "<p>19558 rows × 8 columns</p>\n",
       "</div>"
      ],
      "text/plain": [
       "      unique_id  amount      date_time_of_pickup  longitude_of_pickup  \\\n",
       "1       52:16.0    16.9  2010-01-05 16:52:16 UTC           -74.016048   \n",
       "5       50:45.0    12.1  2011-01-06 09:50:45 UTC           -74.000964   \n",
       "7       22:00.0    16.5  2012-01-04 17:22:00 UTC           -73.951300   \n",
       "16      22:00.0    12.5  2014-02-19 07:22:00 UTC           -73.986430   \n",
       "20      18:00.0    10.5  2010-09-07 13:18:00 UTC           -73.985382   \n",
       "...         ...     ...                      ...                  ...   \n",
       "49987   24:00.0    16.5  2014-03-17 11:24:00 UTC           -73.992928   \n",
       "49989   42:00.0    17.3  2011-12-07 21:42:00 UTC           -73.998573   \n",
       "49991   56:19.0    10.5  2013-10-17 19:56:19 UTC           -73.991685   \n",
       "49995   25:15.0    15.0  2013-06-12 23:25:15 UTC           -73.999973   \n",
       "49999   13:14.0    10.9  2010-01-13 08:13:14 UTC           -73.932603   \n",
       "\n",
       "       latitude_of_pickup  longitude_of_dropoff  latitude_of_dropoff  \\\n",
       "1               40.711303            -73.979268            40.782004   \n",
       "5               40.731630            -73.972892            40.758233   \n",
       "7               40.774138            -73.990095            40.751048   \n",
       "16              40.760465            -73.988990            40.737075   \n",
       "20              40.747858            -73.978377            40.762070   \n",
       "...                   ...                   ...                  ...   \n",
       "49987           40.748422            -73.963497            40.774297   \n",
       "49989           40.719868            -73.967462            40.793382   \n",
       "49991           40.739494            -73.985357            40.731971   \n",
       "49995           40.748531            -74.016899            40.705993   \n",
       "49999           40.763805            -73.932603            40.763805   \n",
       "\n",
       "       no_of_passenger  \n",
       "1                    1  \n",
       "5                    1  \n",
       "7                    1  \n",
       "16                   1  \n",
       "20                   1  \n",
       "...                ...  \n",
       "49987                1  \n",
       "49989                1  \n",
       "49991                1  \n",
       "49995                1  \n",
       "49999                1  \n",
       "\n",
       "[19558 rows x 8 columns]"
      ]
     },
     "execution_count": 103,
     "metadata": {},
     "output_type": "execute_result"
    }
   ],
   "source": [
    "## Exploration of dataset\n",
    "print(\"Fare amount greater than 10$ :\", df[df[\"amount\"]>=10].shape[0])\n",
    "df[df[\"amount\"] >=10]\n"
   ]
  },
  {
   "cell_type": "code",
   "execution_count": 104,
   "id": "fedf5558",
   "metadata": {},
   "outputs": [],
   "source": [
    "df[\"date_time_of_pickup\"]=pd.to_datetime(df[\"date_time_of_pickup\"]) #since datetime was an object type, conv to datetime type to work\n"
   ]
  },
  {
   "cell_type": "code",
   "execution_count": 105,
   "id": "5f997560",
   "metadata": {
    "scrolled": true
   },
   "outputs": [
    {
     "data": {
      "text/html": [
       "<div>\n",
       "<style scoped>\n",
       "    .dataframe tbody tr th:only-of-type {\n",
       "        vertical-align: middle;\n",
       "    }\n",
       "\n",
       "    .dataframe tbody tr th {\n",
       "        vertical-align: top;\n",
       "    }\n",
       "\n",
       "    .dataframe thead th {\n",
       "        text-align: right;\n",
       "    }\n",
       "</style>\n",
       "<table border=\"1\" class=\"dataframe\">\n",
       "  <thead>\n",
       "    <tr style=\"text-align: right;\">\n",
       "      <th></th>\n",
       "      <th>unique_id</th>\n",
       "      <th>amount</th>\n",
       "      <th>date_time_of_pickup</th>\n",
       "      <th>longitude_of_pickup</th>\n",
       "      <th>latitude_of_pickup</th>\n",
       "      <th>longitude_of_dropoff</th>\n",
       "      <th>latitude_of_dropoff</th>\n",
       "      <th>no_of_passenger</th>\n",
       "    </tr>\n",
       "  </thead>\n",
       "  <tbody>\n",
       "    <tr>\n",
       "      <th>0</th>\n",
       "      <td>26:21.0</td>\n",
       "      <td>4.5</td>\n",
       "      <td>2009-06-15 17:26:21+00:00</td>\n",
       "      <td>-73.844311</td>\n",
       "      <td>40.721319</td>\n",
       "      <td>-73.841610</td>\n",
       "      <td>40.712278</td>\n",
       "      <td>1</td>\n",
       "    </tr>\n",
       "    <tr>\n",
       "      <th>1</th>\n",
       "      <td>52:16.0</td>\n",
       "      <td>16.9</td>\n",
       "      <td>2010-01-05 16:52:16+00:00</td>\n",
       "      <td>-74.016048</td>\n",
       "      <td>40.711303</td>\n",
       "      <td>-73.979268</td>\n",
       "      <td>40.782004</td>\n",
       "      <td>1</td>\n",
       "    </tr>\n",
       "    <tr>\n",
       "      <th>2</th>\n",
       "      <td>35:00.0</td>\n",
       "      <td>5.7</td>\n",
       "      <td>2011-08-18 00:35:00+00:00</td>\n",
       "      <td>-73.982738</td>\n",
       "      <td>40.761270</td>\n",
       "      <td>-73.991242</td>\n",
       "      <td>40.750562</td>\n",
       "      <td>2</td>\n",
       "    </tr>\n",
       "    <tr>\n",
       "      <th>3</th>\n",
       "      <td>30:42.0</td>\n",
       "      <td>7.7</td>\n",
       "      <td>2012-04-21 04:30:42+00:00</td>\n",
       "      <td>-73.987130</td>\n",
       "      <td>40.733143</td>\n",
       "      <td>-73.991567</td>\n",
       "      <td>40.758092</td>\n",
       "      <td>1</td>\n",
       "    </tr>\n",
       "    <tr>\n",
       "      <th>4</th>\n",
       "      <td>51:00.0</td>\n",
       "      <td>5.3</td>\n",
       "      <td>2010-03-09 07:51:00+00:00</td>\n",
       "      <td>-73.968095</td>\n",
       "      <td>40.768008</td>\n",
       "      <td>-73.956655</td>\n",
       "      <td>40.783762</td>\n",
       "      <td>1</td>\n",
       "    </tr>\n",
       "  </tbody>\n",
       "</table>\n",
       "</div>"
      ],
      "text/plain": [
       "  unique_id  amount       date_time_of_pickup  longitude_of_pickup  \\\n",
       "0   26:21.0     4.5 2009-06-15 17:26:21+00:00           -73.844311   \n",
       "1   52:16.0    16.9 2010-01-05 16:52:16+00:00           -74.016048   \n",
       "2   35:00.0     5.7 2011-08-18 00:35:00+00:00           -73.982738   \n",
       "3   30:42.0     7.7 2012-04-21 04:30:42+00:00           -73.987130   \n",
       "4   51:00.0     5.3 2010-03-09 07:51:00+00:00           -73.968095   \n",
       "\n",
       "   latitude_of_pickup  longitude_of_dropoff  latitude_of_dropoff  \\\n",
       "0           40.721319            -73.841610            40.712278   \n",
       "1           40.711303            -73.979268            40.782004   \n",
       "2           40.761270            -73.991242            40.750562   \n",
       "3           40.733143            -73.991567            40.758092   \n",
       "4           40.768008            -73.956655            40.783762   \n",
       "\n",
       "   no_of_passenger  \n",
       "0                1  \n",
       "1                1  \n",
       "2                2  \n",
       "3                1  \n",
       "4                1  "
      ]
     },
     "execution_count": 105,
     "metadata": {},
     "output_type": "execute_result"
    }
   ],
   "source": [
    "df.head() #will show in timestamps instead of UTC"
   ]
  },
  {
   "cell_type": "code",
   "execution_count": 106,
   "id": "b620488b",
   "metadata": {},
   "outputs": [],
   "source": [
    "from math import radians, cos,sin, asin,sqrt\n",
    "\n",
    "## Haversine Distance calculation\n",
    "def distance(lon1, lon2, lat1 , lat2):\n",
    "    \n",
    "    \n",
    "    lon1 =radians(lon1)\n",
    "    lon2 =radians(lon2)\n",
    "    lat1 =radians(lat1)\n",
    "    lat2 =radians(lat2)\n",
    "    \n",
    "    dlon = lon2 - lon1\n",
    "    dlat = lat2 - lat1\n",
    "    a = sin(dlat/2)**2 + cos(lat1) * cos(lat2) * sin(dlon/2)**2\n",
    "    c = 2 * asin(sqrt(a))\n",
    "    \n",
    "    r = 6371\n",
    "    return(round (c * r, 2))\n",
    "    \n",
    "    \n",
    "d = []\n",
    "for i in range(df.shape[0]):\n",
    "    d.append(distance(df[\"latitude_of_pickup\"][i],\n",
    "                      df[\"latitude_of_dropoff\"][i],\n",
    "                      df[\"longitude_of_pickup\"][i],\n",
    "                      df[\"longitude_of_dropoff\"][i]))"
   ]
  },
  {
   "cell_type": "code",
   "execution_count": 107,
   "id": "3726caf3",
   "metadata": {},
   "outputs": [],
   "source": [
    "df[\"distance in kilometres\"]=d"
   ]
  },
  {
   "cell_type": "code",
   "execution_count": 108,
   "id": "32a404d4",
   "metadata": {
    "scrolled": true
   },
   "outputs": [
    {
     "data": {
      "text/html": [
       "<div>\n",
       "<style scoped>\n",
       "    .dataframe tbody tr th:only-of-type {\n",
       "        vertical-align: middle;\n",
       "    }\n",
       "\n",
       "    .dataframe tbody tr th {\n",
       "        vertical-align: top;\n",
       "    }\n",
       "\n",
       "    .dataframe thead th {\n",
       "        text-align: right;\n",
       "    }\n",
       "</style>\n",
       "<table border=\"1\" class=\"dataframe\">\n",
       "  <thead>\n",
       "    <tr style=\"text-align: right;\">\n",
       "      <th></th>\n",
       "      <th>unique_id</th>\n",
       "      <th>amount</th>\n",
       "      <th>date_time_of_pickup</th>\n",
       "      <th>longitude_of_pickup</th>\n",
       "      <th>latitude_of_pickup</th>\n",
       "      <th>longitude_of_dropoff</th>\n",
       "      <th>latitude_of_dropoff</th>\n",
       "      <th>no_of_passenger</th>\n",
       "      <th>distance in kilometres</th>\n",
       "    </tr>\n",
       "  </thead>\n",
       "  <tbody>\n",
       "    <tr>\n",
       "      <th>0</th>\n",
       "      <td>26:21.0</td>\n",
       "      <td>4.5</td>\n",
       "      <td>2009-06-15 17:26:21+00:00</td>\n",
       "      <td>-73.844311</td>\n",
       "      <td>40.721319</td>\n",
       "      <td>-73.841610</td>\n",
       "      <td>40.712278</td>\n",
       "      <td>1</td>\n",
       "      <td>0.41</td>\n",
       "    </tr>\n",
       "    <tr>\n",
       "      <th>1</th>\n",
       "      <td>52:16.0</td>\n",
       "      <td>16.9</td>\n",
       "      <td>2010-01-05 16:52:16+00:00</td>\n",
       "      <td>-74.016048</td>\n",
       "      <td>40.711303</td>\n",
       "      <td>-73.979268</td>\n",
       "      <td>40.782004</td>\n",
       "      <td>1</td>\n",
       "      <td>4.63</td>\n",
       "    </tr>\n",
       "    <tr>\n",
       "      <th>2</th>\n",
       "      <td>35:00.0</td>\n",
       "      <td>5.7</td>\n",
       "      <td>2011-08-18 00:35:00+00:00</td>\n",
       "      <td>-73.982738</td>\n",
       "      <td>40.761270</td>\n",
       "      <td>-73.991242</td>\n",
       "      <td>40.750562</td>\n",
       "      <td>2</td>\n",
       "      <td>1.00</td>\n",
       "    </tr>\n",
       "    <tr>\n",
       "      <th>3</th>\n",
       "      <td>30:42.0</td>\n",
       "      <td>7.7</td>\n",
       "      <td>2012-04-21 04:30:42+00:00</td>\n",
       "      <td>-73.987130</td>\n",
       "      <td>40.733143</td>\n",
       "      <td>-73.991567</td>\n",
       "      <td>40.758092</td>\n",
       "      <td>1</td>\n",
       "      <td>0.91</td>\n",
       "    </tr>\n",
       "    <tr>\n",
       "      <th>4</th>\n",
       "      <td>51:00.0</td>\n",
       "      <td>5.3</td>\n",
       "      <td>2010-03-09 07:51:00+00:00</td>\n",
       "      <td>-73.968095</td>\n",
       "      <td>40.768008</td>\n",
       "      <td>-73.956655</td>\n",
       "      <td>40.783762</td>\n",
       "      <td>1</td>\n",
       "      <td>1.36</td>\n",
       "    </tr>\n",
       "  </tbody>\n",
       "</table>\n",
       "</div>"
      ],
      "text/plain": [
       "  unique_id  amount       date_time_of_pickup  longitude_of_pickup  \\\n",
       "0   26:21.0     4.5 2009-06-15 17:26:21+00:00           -73.844311   \n",
       "1   52:16.0    16.9 2010-01-05 16:52:16+00:00           -74.016048   \n",
       "2   35:00.0     5.7 2011-08-18 00:35:00+00:00           -73.982738   \n",
       "3   30:42.0     7.7 2012-04-21 04:30:42+00:00           -73.987130   \n",
       "4   51:00.0     5.3 2010-03-09 07:51:00+00:00           -73.968095   \n",
       "\n",
       "   latitude_of_pickup  longitude_of_dropoff  latitude_of_dropoff  \\\n",
       "0           40.721319            -73.841610            40.712278   \n",
       "1           40.711303            -73.979268            40.782004   \n",
       "2           40.761270            -73.991242            40.750562   \n",
       "3           40.733143            -73.991567            40.758092   \n",
       "4           40.768008            -73.956655            40.783762   \n",
       "\n",
       "   no_of_passenger  distance in kilometres  \n",
       "0                1                    0.41  \n",
       "1                1                    4.63  \n",
       "2                2                    1.00  \n",
       "3                1                    0.91  \n",
       "4                1                    1.36  "
      ]
     },
     "execution_count": 108,
     "metadata": {},
     "output_type": "execute_result"
    }
   ],
   "source": [
    "df.head()"
   ]
  },
  {
   "cell_type": "code",
   "execution_count": 109,
   "id": "f1e69ab2",
   "metadata": {},
   "outputs": [
    {
     "data": {
      "text/html": [
       "<div>\n",
       "<style scoped>\n",
       "    .dataframe tbody tr th:only-of-type {\n",
       "        vertical-align: middle;\n",
       "    }\n",
       "\n",
       "    .dataframe tbody tr th {\n",
       "        vertical-align: top;\n",
       "    }\n",
       "\n",
       "    .dataframe thead th {\n",
       "        text-align: right;\n",
       "    }\n",
       "</style>\n",
       "<table border=\"1\" class=\"dataframe\">\n",
       "  <thead>\n",
       "    <tr style=\"text-align: right;\">\n",
       "      <th></th>\n",
       "      <th>amount</th>\n",
       "      <th>date_time_of_pickup</th>\n",
       "      <th>no_of_passenger</th>\n",
       "      <th>distance in kilometres</th>\n",
       "    </tr>\n",
       "  </thead>\n",
       "  <tbody>\n",
       "    <tr>\n",
       "      <th>0</th>\n",
       "      <td>4.5</td>\n",
       "      <td>2009-06-15 17:26:21+00:00</td>\n",
       "      <td>1</td>\n",
       "      <td>0.41</td>\n",
       "    </tr>\n",
       "    <tr>\n",
       "      <th>1</th>\n",
       "      <td>16.9</td>\n",
       "      <td>2010-01-05 16:52:16+00:00</td>\n",
       "      <td>1</td>\n",
       "      <td>4.63</td>\n",
       "    </tr>\n",
       "    <tr>\n",
       "      <th>2</th>\n",
       "      <td>5.7</td>\n",
       "      <td>2011-08-18 00:35:00+00:00</td>\n",
       "      <td>2</td>\n",
       "      <td>1.00</td>\n",
       "    </tr>\n",
       "    <tr>\n",
       "      <th>3</th>\n",
       "      <td>7.7</td>\n",
       "      <td>2012-04-21 04:30:42+00:00</td>\n",
       "      <td>1</td>\n",
       "      <td>0.91</td>\n",
       "    </tr>\n",
       "    <tr>\n",
       "      <th>4</th>\n",
       "      <td>5.3</td>\n",
       "      <td>2010-03-09 07:51:00+00:00</td>\n",
       "      <td>1</td>\n",
       "      <td>1.36</td>\n",
       "    </tr>\n",
       "  </tbody>\n",
       "</table>\n",
       "</div>"
      ],
      "text/plain": [
       "   amount       date_time_of_pickup  no_of_passenger  distance in kilometres\n",
       "0     4.5 2009-06-15 17:26:21+00:00                1                    0.41\n",
       "1    16.9 2010-01-05 16:52:16+00:00                1                    4.63\n",
       "2     5.7 2011-08-18 00:35:00+00:00                2                    1.00\n",
       "3     7.7 2012-04-21 04:30:42+00:00                1                    0.91\n",
       "4     5.3 2010-03-09 07:51:00+00:00                1                    1.36"
      ]
     },
     "execution_count": 109,
     "metadata": {},
     "output_type": "execute_result"
    }
   ],
   "source": [
    "## We don't need coordinates/ unique IDs anymore,we'll work with the distance feature\n",
    "df.drop([\"unique_id\",\"latitude_of_pickup\", \"longitude_of_pickup\", \"latitude_of_dropoff\", \"longitude_of_dropoff\"], axis=1, inplace=True)\n",
    "df.head() #seems like a cleaned dataset, enough to infer values"
   ]
  },
  {
   "cell_type": "code",
   "execution_count": 110,
   "id": "91c83c75",
   "metadata": {
    "scrolled": false
   },
   "outputs": [
    {
     "name": "stdout",
     "output_type": "stream",
     "text": [
      "Date in data :  [ 1  2  3  4  5  6  7  8  9 10 11 12 13 14 15 16 17 18 19 20 21 22 23 24\n",
      " 25 26 27 28 29 30 31]\n",
      "Month in data :  6\n",
      "Year in data :  2009\n"
     ]
    }
   ],
   "source": [
    "print(\"Date in data : \", df[\"date_time_of_pickup\"].dt.day.sort_values().unique())\n",
    "print(\"Month in data : \", df[\"date_time_of_pickup\"].dt.month.unique()[0])\n",
    "print(\"Year in data : \", df[\"date_time_of_pickup\"].dt.year.unique()[0])\n"
   ]
  },
  {
   "cell_type": "code",
   "execution_count": 111,
   "id": "cbc5bed0",
   "metadata": {
    "scrolled": true
   },
   "outputs": [
    {
     "data": {
      "text/html": [
       "<div>\n",
       "<style scoped>\n",
       "    .dataframe tbody tr th:only-of-type {\n",
       "        vertical-align: middle;\n",
       "    }\n",
       "\n",
       "    .dataframe tbody tr th {\n",
       "        vertical-align: top;\n",
       "    }\n",
       "\n",
       "    .dataframe thead th {\n",
       "        text-align: right;\n",
       "    }\n",
       "</style>\n",
       "<table border=\"1\" class=\"dataframe\">\n",
       "  <thead>\n",
       "    <tr style=\"text-align: right;\">\n",
       "      <th></th>\n",
       "      <th>amount</th>\n",
       "      <th>date_time_of_pickup</th>\n",
       "      <th>no_of_passenger</th>\n",
       "      <th>distance in kilometres</th>\n",
       "      <th>weekday_name</th>\n",
       "    </tr>\n",
       "  </thead>\n",
       "  <tbody>\n",
       "    <tr>\n",
       "      <th>0</th>\n",
       "      <td>4.5</td>\n",
       "      <td>2009-06-15 17:26:21+00:00</td>\n",
       "      <td>1</td>\n",
       "      <td>0.41</td>\n",
       "      <td>Sunday</td>\n",
       "    </tr>\n",
       "    <tr>\n",
       "      <th>1</th>\n",
       "      <td>16.9</td>\n",
       "      <td>2010-01-05 16:52:16+00:00</td>\n",
       "      <td>1</td>\n",
       "      <td>4.63</td>\n",
       "      <td>Monday</td>\n",
       "    </tr>\n",
       "    <tr>\n",
       "      <th>2</th>\n",
       "      <td>5.7</td>\n",
       "      <td>2011-08-18 00:35:00+00:00</td>\n",
       "      <td>2</td>\n",
       "      <td>1.00</td>\n",
       "      <td>Wednesday</td>\n",
       "    </tr>\n",
       "    <tr>\n",
       "      <th>3</th>\n",
       "      <td>7.7</td>\n",
       "      <td>2012-04-21 04:30:42+00:00</td>\n",
       "      <td>1</td>\n",
       "      <td>0.91</td>\n",
       "      <td>Friday</td>\n",
       "    </tr>\n",
       "    <tr>\n",
       "      <th>4</th>\n",
       "      <td>5.3</td>\n",
       "      <td>2010-03-09 07:51:00+00:00</td>\n",
       "      <td>1</td>\n",
       "      <td>1.36</td>\n",
       "      <td>Monday</td>\n",
       "    </tr>\n",
       "  </tbody>\n",
       "</table>\n",
       "</div>"
      ],
      "text/plain": [
       "   amount       date_time_of_pickup  no_of_passenger  distance in kilometres  \\\n",
       "0     4.5 2009-06-15 17:26:21+00:00                1                    0.41   \n",
       "1    16.9 2010-01-05 16:52:16+00:00                1                    4.63   \n",
       "2     5.7 2011-08-18 00:35:00+00:00                2                    1.00   \n",
       "3     7.7 2012-04-21 04:30:42+00:00                1                    0.91   \n",
       "4     5.3 2010-03-09 07:51:00+00:00                1                    1.36   \n",
       "\n",
       "  weekday_name  \n",
       "0       Sunday  \n",
       "1       Monday  \n",
       "2    Wednesday  \n",
       "3       Friday  \n",
       "4       Monday  "
      ]
     },
     "execution_count": 111,
     "metadata": {},
     "output_type": "execute_result"
    }
   ],
   "source": [
    "week_names = {0: \"Sunday\", 1: \"Monday\", 2: \"Tuesday\", 3: \"Wednesday\", 4: \"Thursday\", 5: \"Friday\", 6: \"Saturday\"}\n",
    "\n",
    "df[\"weekday_name\"] = df[\"date_time_of_pickup\"].dt.weekday.map(week_names)\n",
    "df.head()\n"
   ]
  },
  {
   "cell_type": "code",
   "execution_count": 112,
   "id": "338a77b0",
   "metadata": {
    "scrolled": true
   },
   "outputs": [
    {
     "data": {
      "image/png": "[encoded data removed]",
      "text/plain": [
       "<Figure size 864x576 with 1 Axes>"
      ]
     },
     "metadata": {},
     "output_type": "display_data"
    }
   ],
   "source": [
    "plt.figure(figsize = (12,8))\n",
    "df.groupby(\"weekday_name\")[\"amount\"].sum().sort_values().plot()\n",
    "\n",
    "plt.xlabel(\"Week\", fontsize=15)\n",
    "plt.ylabel(\"Fare Amount Average($)\", fontsize=15)\n",
    "plt.title(\"Total fare Amount vs Average\", fontsize=20)\n",
    "plt.show()"
   ]
  },
  {
   "cell_type": "code",
   "execution_count": 113,
   "id": "2d07eb27",
   "metadata": {
    "scrolled": true
   },
   "outputs": [
    {
     "data": {
      "text/html": [
       "<div>\n",
       "<style scoped>\n",
       "    .dataframe tbody tr th:only-of-type {\n",
       "        vertical-align: middle;\n",
       "    }\n",
       "\n",
       "    .dataframe tbody tr th {\n",
       "        vertical-align: top;\n",
       "    }\n",
       "\n",
       "    .dataframe thead th {\n",
       "        text-align: right;\n",
       "    }\n",
       "</style>\n",
       "<table border=\"1\" class=\"dataframe\">\n",
       "  <thead>\n",
       "    <tr style=\"text-align: right;\">\n",
       "      <th></th>\n",
       "      <th>amount</th>\n",
       "      <th>date_time_of_pickup</th>\n",
       "      <th>no_of_passenger</th>\n",
       "      <th>distance in kilometres</th>\n",
       "      <th>weekday_name</th>\n",
       "    </tr>\n",
       "  </thead>\n",
       "  <tbody>\n",
       "    <tr>\n",
       "      <th>0</th>\n",
       "      <td>4.5</td>\n",
       "      <td>2009-06-15 17:26:21+00:00</td>\n",
       "      <td>1</td>\n",
       "      <td>0.41</td>\n",
       "      <td>1</td>\n",
       "    </tr>\n",
       "    <tr>\n",
       "      <th>1</th>\n",
       "      <td>16.9</td>\n",
       "      <td>2010-01-05 16:52:16+00:00</td>\n",
       "      <td>1</td>\n",
       "      <td>4.63</td>\n",
       "      <td>3</td>\n",
       "    </tr>\n",
       "    <tr>\n",
       "      <th>2</th>\n",
       "      <td>5.7</td>\n",
       "      <td>2011-08-18 00:35:00+00:00</td>\n",
       "      <td>2</td>\n",
       "      <td>1.00</td>\n",
       "      <td>6</td>\n",
       "    </tr>\n",
       "    <tr>\n",
       "      <th>3</th>\n",
       "      <td>7.7</td>\n",
       "      <td>2012-04-21 04:30:42+00:00</td>\n",
       "      <td>1</td>\n",
       "      <td>0.91</td>\n",
       "      <td>5</td>\n",
       "    </tr>\n",
       "    <tr>\n",
       "      <th>4</th>\n",
       "      <td>5.3</td>\n",
       "      <td>2010-03-09 07:51:00+00:00</td>\n",
       "      <td>1</td>\n",
       "      <td>1.36</td>\n",
       "      <td>3</td>\n",
       "    </tr>\n",
       "  </tbody>\n",
       "</table>\n",
       "</div>"
      ],
      "text/plain": [
       "   amount       date_time_of_pickup  no_of_passenger  distance in kilometres  \\\n",
       "0     4.5 2009-06-15 17:26:21+00:00                1                    0.41   \n",
       "1    16.9 2010-01-05 16:52:16+00:00                1                    4.63   \n",
       "2     5.7 2011-08-18 00:35:00+00:00                2                    1.00   \n",
       "3     7.7 2012-04-21 04:30:42+00:00                1                    0.91   \n",
       "4     5.3 2010-03-09 07:51:00+00:00                1                    1.36   \n",
       "\n",
       "   weekday_name  \n",
       "0             1  \n",
       "1             3  \n",
       "2             6  \n",
       "3             5  \n",
       "4             3  "
      ]
     },
     "execution_count": 113,
     "metadata": {},
     "output_type": "execute_result"
    }
   ],
   "source": [
    "week_names_encode = {\"Sunday\": 1, \"Saturday\": 2, \"Monday\": 3, \"Tuesday\": 4, \"Friday\": 5, \"Wednesday\": 6, \"Thursday\": 7}\n",
    "df[\"weekday_name\"] = df[\"weekday_name\"].map(week_names_encode)\n",
    "df.head()"
   ]
  },
  {
   "cell_type": "code",
   "execution_count": 114,
   "id": "718749d8",
   "metadata": {
    "scrolled": true
   },
   "outputs": [
    {
     "data": {
      "text/plain": [
       "array([17, 16,  0,  4,  7,  9, 20, 13,  1, 11, 19, 12, 14, 18, 15,  6, 21,\n",
       "       23,  3,  8, 10,  2, 22,  5])"
      ]
     },
     "execution_count": 114,
     "metadata": {},
     "output_type": "execute_result"
    }
   ],
   "source": [
    "df[\"Hour\"] = df[\"date_time_of_pickup\"].dt.hour\n",
    "df[\"Hour\"].unique()"
   ]
  },
  {
   "cell_type": "code",
   "execution_count": 115,
   "id": "55ec459f",
   "metadata": {
    "scrolled": true
   },
   "outputs": [
    {
     "data": {
      "image/png": "[encoded data removed]",
      "text/plain": [
       "<Figure size 864x576 with 1 Axes>"
      ]
     },
     "metadata": {},
     "output_type": "display_data"
    }
   ],
   "source": [
    "plt.figure(figsize = (12,8))\n",
    "\n",
    "df.groupby(\"Hour\")[\"amount\"].sum().plot()\n",
    "plt.title(\"Pickup Time vs Sum of Fare Amount at that Hour\", fontsize=20)\n",
    "plt.xlabel(\"Hour\", fontsize=15)\n",
    "plt.ylabel(\"Sum of Fare Amount\", fontsize=15)\n",
    "plt.show()\n",
    "\n"
   ]
  },
  {
   "cell_type": "code",
   "execution_count": 116,
   "id": "33d73cbd",
   "metadata": {
    "scrolled": true
   },
   "outputs": [
    {
     "name": "stdout",
     "output_type": "stream",
     "text": [
      "Date : 1 \t Total fare Amount : $17229.03\n",
      "Date : 2 \t Total fare Amount : $17711.51\n",
      "Date : 3 \t Total fare Amount : $17887.56\n",
      "Date : 4 \t Total fare Amount : $16871.76\n",
      "Date : 5 \t Total fare Amount : $18426.86\n",
      "Date : 6 \t Total fare Amount : $18898.4\n",
      "Date : 7 \t Total fare Amount : $19953.12\n",
      "Date : 8 \t Total fare Amount : $19773.47\n",
      "Date : 9 \t Total fare Amount : $19096.83\n",
      "Date : 10 \t Total fare Amount : $19103.29\n",
      "Date : 11 \t Total fare Amount : $18543.99\n",
      "Date : 12 \t Total fare Amount : $20143.27\n",
      "Date : 13 \t Total fare Amount : $19773.21\n",
      "Date : 14 \t Total fare Amount : $18941.62\n",
      "Date : 15 \t Total fare Amount : $19425.37\n",
      "Date : 16 \t Total fare Amount : $19864.5\n",
      "Date : 17 \t Total fare Amount : $19498.61\n",
      "Date : 18 \t Total fare Amount : $19117.84\n",
      "Date : 19 \t Total fare Amount : $19866.99\n",
      "Date : 20 \t Total fare Amount : $18862.46\n",
      "Date : 21 \t Total fare Amount : $20123.13\n",
      "Date : 22 \t Total fare Amount : $18670.33\n",
      "Date : 23 \t Total fare Amount : $18803.67\n",
      "Date : 24 \t Total fare Amount : $18053.6\n",
      "Date : 25 \t Total fare Amount : $18085.91\n",
      "Date : 26 \t Total fare Amount : $17250.97\n",
      "Date : 27 \t Total fare Amount : $17427.84\n",
      "Date : 28 \t Total fare Amount : $18929.16\n",
      "Date : 29 \t Total fare Amount : $15617.68\n",
      "Date : 30 \t Total fare Amount : $15910.01\n",
      "Date : 31 \t Total fare Amount : $10346.58\n"
     ]
    }
   ],
   "source": [
    "df[\"Month_Day\"] = df[\"date_time_of_pickup\"].dt.day\n",
    "# Sum of Taxi Fare in a particular day\n",
    "\n",
    "for day in list(df[\"date_time_of_pickup\"].dt.day.sort_values().unique()):\n",
    "    print(f\"Date : {day} \\t Total fare Amount : ${round(df[df.date_time_of_pickup.dt.day==day].amount.sum(), 2)}\")\n"
   ]
  },
  {
   "cell_type": "code",
   "execution_count": 117,
   "id": "81ef7472",
   "metadata": {
    "scrolled": true
   },
   "outputs": [
    {
     "data": {
      "image/png": "[encoded data removed]",
      "text/plain": [
       "<Figure size 864x576 with 1 Axes>"
      ]
     },
     "metadata": {},
     "output_type": "display_data"
    }
   ],
   "source": [
    "plt.figure(figsize = (12, 8))\n",
    "\n",
    "df.groupby(\"Month_Day\")[\"amount\"].sum().plot()\n",
    "plt.title(\"Pickup Time vs Sum of Fare Amount at that day\", fontsize=20)\n",
    "plt.xlabel(\"Month Day\", fontsize=15)\n",
    "plt.ylabel(\"Avg of Fare Amount\", fontsize=15)\n",
    "plt.show()"
   ]
  },
  {
   "cell_type": "code",
   "execution_count": 118,
   "id": "fdd87005",
   "metadata": {
    "scrolled": false
   },
   "outputs": [
    {
     "data": {
      "text/html": [
       "<div>\n",
       "<style scoped>\n",
       "    .dataframe tbody tr th:only-of-type {\n",
       "        vertical-align: middle;\n",
       "    }\n",
       "\n",
       "    .dataframe tbody tr th {\n",
       "        vertical-align: top;\n",
       "    }\n",
       "\n",
       "    .dataframe thead th {\n",
       "        text-align: right;\n",
       "    }\n",
       "</style>\n",
       "<table border=\"1\" class=\"dataframe\">\n",
       "  <thead>\n",
       "    <tr style=\"text-align: right;\">\n",
       "      <th></th>\n",
       "      <th>amount</th>\n",
       "      <th>date_time_of_pickup</th>\n",
       "      <th>no_of_passenger</th>\n",
       "      <th>distance in kilometres</th>\n",
       "      <th>weekday_name</th>\n",
       "      <th>Hour</th>\n",
       "      <th>Month_Day</th>\n",
       "    </tr>\n",
       "  </thead>\n",
       "  <tbody>\n",
       "    <tr>\n",
       "      <th>0</th>\n",
       "      <td>4.5</td>\n",
       "      <td>2009-06-15 17:26:21+00:00</td>\n",
       "      <td>1</td>\n",
       "      <td>0.41</td>\n",
       "      <td>1</td>\n",
       "      <td>17</td>\n",
       "      <td>15</td>\n",
       "    </tr>\n",
       "    <tr>\n",
       "      <th>1</th>\n",
       "      <td>16.9</td>\n",
       "      <td>2010-01-05 16:52:16+00:00</td>\n",
       "      <td>1</td>\n",
       "      <td>4.63</td>\n",
       "      <td>3</td>\n",
       "      <td>16</td>\n",
       "      <td>5</td>\n",
       "    </tr>\n",
       "    <tr>\n",
       "      <th>2</th>\n",
       "      <td>5.7</td>\n",
       "      <td>2011-08-18 00:35:00+00:00</td>\n",
       "      <td>2</td>\n",
       "      <td>1.00</td>\n",
       "      <td>6</td>\n",
       "      <td>0</td>\n",
       "      <td>18</td>\n",
       "    </tr>\n",
       "    <tr>\n",
       "      <th>3</th>\n",
       "      <td>7.7</td>\n",
       "      <td>2012-04-21 04:30:42+00:00</td>\n",
       "      <td>1</td>\n",
       "      <td>0.91</td>\n",
       "      <td>5</td>\n",
       "      <td>4</td>\n",
       "      <td>21</td>\n",
       "    </tr>\n",
       "    <tr>\n",
       "      <th>4</th>\n",
       "      <td>5.3</td>\n",
       "      <td>2010-03-09 07:51:00+00:00</td>\n",
       "      <td>1</td>\n",
       "      <td>1.36</td>\n",
       "      <td>3</td>\n",
       "      <td>7</td>\n",
       "      <td>9</td>\n",
       "    </tr>\n",
       "  </tbody>\n",
       "</table>\n",
       "</div>"
      ],
      "text/plain": [
       "   amount       date_time_of_pickup  no_of_passenger  distance in kilometres  \\\n",
       "0     4.5 2009-06-15 17:26:21+00:00                1                    0.41   \n",
       "1    16.9 2010-01-05 16:52:16+00:00                1                    4.63   \n",
       "2     5.7 2011-08-18 00:35:00+00:00                2                    1.00   \n",
       "3     7.7 2012-04-21 04:30:42+00:00                1                    0.91   \n",
       "4     5.3 2010-03-09 07:51:00+00:00                1                    1.36   \n",
       "\n",
       "   weekday_name  Hour  Month_Day  \n",
       "0             1    17         15  \n",
       "1             3    16          5  \n",
       "2             6     0         18  \n",
       "3             5     4         21  \n",
       "4             3     7          9  "
      ]
     },
     "execution_count": 118,
     "metadata": {},
     "output_type": "execute_result"
    }
   ],
   "source": [
    "df.head() #dataset"
   ]
  },
  {
   "cell_type": "code",
   "execution_count": 119,
   "id": "cec9cec8",
   "metadata": {
    "scrolled": true
   },
   "outputs": [
    {
     "data": {
      "text/plain": [
       "1    34808\n",
       "2     7386\n",
       "5     3453\n",
       "3     2183\n",
       "4     1016\n",
       "6      989\n",
       "0      165\n",
       "Name: no_of_passenger, dtype: int64"
      ]
     },
     "execution_count": 119,
     "metadata": {},
     "output_type": "execute_result"
    }
   ],
   "source": [
    "data[\"no_of_passenger\"].value_counts()"
   ]
  },
  {
   "cell_type": "code",
   "execution_count": 120,
   "id": "e1177c4c",
   "metadata": {
    "scrolled": true
   },
   "outputs": [
    {
     "data": {
      "image/png": "[encoded data removed]",
      "text/plain": [
       "<Figure size 866.05x432 with 1 Axes>"
      ]
     },
     "metadata": {},
     "output_type": "display_data"
    }
   ],
   "source": [
    "sns.relplot(data = df, kind = \"scatter\",x = \"distance in kilometres\",y = \"amount\",\n",
    "            hue = \"no_of_passenger\",height=6 ,aspect = 1.75,)\n",
    "plt.title(\"Fare($) vs distance(kms)\" , fontsize=15)\n",
    "plt.show()"
   ]
  },
  {
   "cell_type": "code",
   "execution_count": 121,
   "id": "55c2f4bf",
   "metadata": {
    "scrolled": true
   },
   "outputs": [
    {
     "data": {
      "image/png": "[encoded data removed]",
      "text/plain": [
       "<Figure size 1080x576 with 1 Axes>"
      ]
     },
     "metadata": {},
     "output_type": "display_data"
    }
   ],
   "source": [
    "plt.figure(figsize=(15,8))\n",
    "df.groupby(\"no_of_passenger\")[\"amount\"].sum().sort_values().plot.barh()\n",
    "plt.xlabel(\"Total Fare($)\",fontsize =13)\n",
    "plt.ylabel(\"Passengers in Taxi\", fontsize =13)\n",
    "plt.title(\"Number of passsenger vs Total Fare of Taxi\", fontsize = 15)\n",
    "plt.show()"
   ]
  },
  {
   "cell_type": "code",
   "execution_count": 122,
   "id": "c3218d08",
   "metadata": {},
   "outputs": [],
   "source": [
    "df.drop(\"date_time_of_pickup\", axis=1, inplace=True)"
   ]
  },
  {
   "cell_type": "code",
   "execution_count": 123,
   "id": "b8193f27",
   "metadata": {
    "scrolled": true
   },
   "outputs": [
    {
     "data": {
      "text/html": [
       "<div>\n",
       "<style scoped>\n",
       "    .dataframe tbody tr th:only-of-type {\n",
       "        vertical-align: middle;\n",
       "    }\n",
       "\n",
       "    .dataframe tbody tr th {\n",
       "        vertical-align: top;\n",
       "    }\n",
       "\n",
       "    .dataframe thead th {\n",
       "        text-align: right;\n",
       "    }\n",
       "</style>\n",
       "<table border=\"1\" class=\"dataframe\">\n",
       "  <thead>\n",
       "    <tr style=\"text-align: right;\">\n",
       "      <th></th>\n",
       "      <th>amount</th>\n",
       "      <th>no_of_passenger</th>\n",
       "      <th>distance in kilometres</th>\n",
       "      <th>weekday_name</th>\n",
       "      <th>Hour</th>\n",
       "      <th>Month_Day</th>\n",
       "    </tr>\n",
       "  </thead>\n",
       "  <tbody>\n",
       "    <tr>\n",
       "      <th>0</th>\n",
       "      <td>4.5</td>\n",
       "      <td>1</td>\n",
       "      <td>0.41</td>\n",
       "      <td>1</td>\n",
       "      <td>17</td>\n",
       "      <td>15</td>\n",
       "    </tr>\n",
       "    <tr>\n",
       "      <th>1</th>\n",
       "      <td>16.9</td>\n",
       "      <td>1</td>\n",
       "      <td>4.63</td>\n",
       "      <td>3</td>\n",
       "      <td>16</td>\n",
       "      <td>5</td>\n",
       "    </tr>\n",
       "    <tr>\n",
       "      <th>2</th>\n",
       "      <td>5.7</td>\n",
       "      <td>2</td>\n",
       "      <td>1.00</td>\n",
       "      <td>6</td>\n",
       "      <td>0</td>\n",
       "      <td>18</td>\n",
       "    </tr>\n",
       "    <tr>\n",
       "      <th>3</th>\n",
       "      <td>7.7</td>\n",
       "      <td>1</td>\n",
       "      <td>0.91</td>\n",
       "      <td>5</td>\n",
       "      <td>4</td>\n",
       "      <td>21</td>\n",
       "    </tr>\n",
       "    <tr>\n",
       "      <th>4</th>\n",
       "      <td>5.3</td>\n",
       "      <td>1</td>\n",
       "      <td>1.36</td>\n",
       "      <td>3</td>\n",
       "      <td>7</td>\n",
       "      <td>9</td>\n",
       "    </tr>\n",
       "  </tbody>\n",
       "</table>\n",
       "</div>"
      ],
      "text/plain": [
       "   amount  no_of_passenger  distance in kilometres  weekday_name  Hour  \\\n",
       "0     4.5                1                    0.41             1    17   \n",
       "1    16.9                1                    4.63             3    16   \n",
       "2     5.7                2                    1.00             6     0   \n",
       "3     7.7                1                    0.91             5     4   \n",
       "4     5.3                1                    1.36             3     7   \n",
       "\n",
       "   Month_Day  \n",
       "0         15  \n",
       "1          5  \n",
       "2         18  \n",
       "3         21  \n",
       "4          9  "
      ]
     },
     "execution_count": 123,
     "metadata": {},
     "output_type": "execute_result"
    }
   ],
   "source": [
    "df.head()"
   ]
  },
  {
   "cell_type": "code",
   "execution_count": 124,
   "id": "61dbf0e8",
   "metadata": {},
   "outputs": [],
   "source": [
    "df.to_csv(\"taxifare_transformed.csv\", index=False)"
   ]
  },
  {
   "cell_type": "code",
   "execution_count": 6,
   "id": "d6988a55",
   "metadata": {},
   "outputs": [],
   "source": [
    "##Now we will work with the transformed csv as our new dataframe\n",
    "df1 = pd.read_csv(\"taxifare_transformed.csv\")"
   ]
  },
  {
   "cell_type": "code",
   "execution_count": 7,
   "id": "829452d4",
   "metadata": {
    "scrolled": true
   },
   "outputs": [
    {
     "data": {
      "text/html": [
       "<div>\n",
       "<style scoped>\n",
       "    .dataframe tbody tr th:only-of-type {\n",
       "        vertical-align: middle;\n",
       "    }\n",
       "\n",
       "    .dataframe tbody tr th {\n",
       "        vertical-align: top;\n",
       "    }\n",
       "\n",
       "    .dataframe thead th {\n",
       "        text-align: right;\n",
       "    }\n",
       "</style>\n",
       "<table border=\"1\" class=\"dataframe\">\n",
       "  <thead>\n",
       "    <tr style=\"text-align: right;\">\n",
       "      <th></th>\n",
       "      <th>amount</th>\n",
       "      <th>no_of_passenger</th>\n",
       "      <th>distance in kilometres</th>\n",
       "      <th>weekday_name</th>\n",
       "      <th>Hour</th>\n",
       "      <th>Month_Day</th>\n",
       "    </tr>\n",
       "  </thead>\n",
       "  <tbody>\n",
       "    <tr>\n",
       "      <th>0</th>\n",
       "      <td>4.5</td>\n",
       "      <td>1</td>\n",
       "      <td>0.41</td>\n",
       "      <td>1</td>\n",
       "      <td>17</td>\n",
       "      <td>15</td>\n",
       "    </tr>\n",
       "    <tr>\n",
       "      <th>1</th>\n",
       "      <td>16.9</td>\n",
       "      <td>1</td>\n",
       "      <td>4.63</td>\n",
       "      <td>3</td>\n",
       "      <td>16</td>\n",
       "      <td>5</td>\n",
       "    </tr>\n",
       "    <tr>\n",
       "      <th>2</th>\n",
       "      <td>5.7</td>\n",
       "      <td>2</td>\n",
       "      <td>1.00</td>\n",
       "      <td>6</td>\n",
       "      <td>0</td>\n",
       "      <td>18</td>\n",
       "    </tr>\n",
       "    <tr>\n",
       "      <th>3</th>\n",
       "      <td>7.7</td>\n",
       "      <td>1</td>\n",
       "      <td>0.91</td>\n",
       "      <td>5</td>\n",
       "      <td>4</td>\n",
       "      <td>21</td>\n",
       "    </tr>\n",
       "    <tr>\n",
       "      <th>4</th>\n",
       "      <td>5.3</td>\n",
       "      <td>1</td>\n",
       "      <td>1.36</td>\n",
       "      <td>3</td>\n",
       "      <td>7</td>\n",
       "      <td>9</td>\n",
       "    </tr>\n",
       "  </tbody>\n",
       "</table>\n",
       "</div>"
      ],
      "text/plain": [
       "   amount  no_of_passenger  distance in kilometres  weekday_name  Hour  \\\n",
       "0     4.5                1                    0.41             1    17   \n",
       "1    16.9                1                    4.63             3    16   \n",
       "2     5.7                2                    1.00             6     0   \n",
       "3     7.7                1                    0.91             5     4   \n",
       "4     5.3                1                    1.36             3     7   \n",
       "\n",
       "   Month_Day  \n",
       "0         15  \n",
       "1          5  \n",
       "2         18  \n",
       "3         21  \n",
       "4          9  "
      ]
     },
     "execution_count": 7,
     "metadata": {},
     "output_type": "execute_result"
    }
   ],
   "source": [
    "df1.head()"
   ]
  },
  {
   "cell_type": "code",
   "execution_count": 8,
   "id": "4f165811",
   "metadata": {},
   "outputs": [],
   "source": [
    "# Separating dependent and independent feature\n",
    "#### Dependent Feature ---> amount\n",
    "\n",
    "X = df1.iloc[: , 1:]\n",
    "Y = df1.iloc[: , 0]"
   ]
  },
  {
   "cell_type": "code",
   "execution_count": 9,
   "id": "262d9534",
   "metadata": {
    "scrolled": true
   },
   "outputs": [
    {
     "data": {
      "text/html": [
       "<div>\n",
       "<style scoped>\n",
       "    .dataframe tbody tr th:only-of-type {\n",
       "        vertical-align: middle;\n",
       "    }\n",
       "\n",
       "    .dataframe tbody tr th {\n",
       "        vertical-align: top;\n",
       "    }\n",
       "\n",
       "    .dataframe thead th {\n",
       "        text-align: right;\n",
       "    }\n",
       "</style>\n",
       "<table border=\"1\" class=\"dataframe\">\n",
       "  <thead>\n",
       "    <tr style=\"text-align: right;\">\n",
       "      <th></th>\n",
       "      <th>no_of_passenger</th>\n",
       "      <th>distance in kilometres</th>\n",
       "      <th>weekday_name</th>\n",
       "      <th>Hour</th>\n",
       "      <th>Month_Day</th>\n",
       "    </tr>\n",
       "  </thead>\n",
       "  <tbody>\n",
       "    <tr>\n",
       "      <th>0</th>\n",
       "      <td>1</td>\n",
       "      <td>0.41</td>\n",
       "      <td>1</td>\n",
       "      <td>17</td>\n",
       "      <td>15</td>\n",
       "    </tr>\n",
       "    <tr>\n",
       "      <th>1</th>\n",
       "      <td>1</td>\n",
       "      <td>4.63</td>\n",
       "      <td>3</td>\n",
       "      <td>16</td>\n",
       "      <td>5</td>\n",
       "    </tr>\n",
       "    <tr>\n",
       "      <th>2</th>\n",
       "      <td>2</td>\n",
       "      <td>1.00</td>\n",
       "      <td>6</td>\n",
       "      <td>0</td>\n",
       "      <td>18</td>\n",
       "    </tr>\n",
       "    <tr>\n",
       "      <th>3</th>\n",
       "      <td>1</td>\n",
       "      <td>0.91</td>\n",
       "      <td>5</td>\n",
       "      <td>4</td>\n",
       "      <td>21</td>\n",
       "    </tr>\n",
       "    <tr>\n",
       "      <th>4</th>\n",
       "      <td>1</td>\n",
       "      <td>1.36</td>\n",
       "      <td>3</td>\n",
       "      <td>7</td>\n",
       "      <td>9</td>\n",
       "    </tr>\n",
       "  </tbody>\n",
       "</table>\n",
       "</div>"
      ],
      "text/plain": [
       "   no_of_passenger  distance in kilometres  weekday_name  Hour  Month_Day\n",
       "0                1                    0.41             1    17         15\n",
       "1                1                    4.63             3    16          5\n",
       "2                2                    1.00             6     0         18\n",
       "3                1                    0.91             5     4         21\n",
       "4                1                    1.36             3     7          9"
      ]
     },
     "execution_count": 9,
     "metadata": {},
     "output_type": "execute_result"
    }
   ],
   "source": [
    "X.head()"
   ]
  },
  {
   "cell_type": "code",
   "execution_count": 10,
   "id": "e4634b85",
   "metadata": {
    "scrolled": true
   },
   "outputs": [
    {
     "data": {
      "text/plain": [
       "0     4.5\n",
       "1    16.9\n",
       "2     5.7\n",
       "3     7.7\n",
       "4     5.3\n",
       "Name: amount, dtype: float64"
      ]
     },
     "execution_count": 10,
     "metadata": {},
     "output_type": "execute_result"
    }
   ],
   "source": [
    "Y.head()"
   ]
  },
  {
   "cell_type": "code",
   "execution_count": 52,
   "id": "8f4f2c7b",
   "metadata": {},
   "outputs": [],
   "source": [
    "from sklearn.metrics import r2_score\n",
    "from sklearn.model_selection import train_test_split\n",
    "X_train,X_test,Y_train,Y_test = train_test_split(X, Y, test_size=0.33)\n"
   ]
  },
  {
   "cell_type": "code",
   "execution_count": 55,
   "id": "fc6289f5",
   "metadata": {},
   "outputs": [
    {
     "data": {
      "text/plain": [
       "0.000880402027300442"
      ]
     },
     "execution_count": 55,
     "metadata": {},
     "output_type": "execute_result"
    }
   ],
   "source": [
    "from sklearn.linear_model import LinearRegression\n",
    "linreg = LinearRegression(fit_intercept= True, normalize =True)\n",
    "import warnings\n",
    "warnings.filterwarnings('ignore')\n",
    "linreg.fit(X_train , Y_train)\n",
    "predict = linreg.predict(X_test)\n",
    "r2_score(Y_test,predict)"
   ]
  },
  {
   "cell_type": "code",
   "execution_count": 19,
   "id": "1d44c1a5",
   "metadata": {
    "scrolled": true
   },
   "outputs": [
    {
     "name": "stdout",
     "output_type": "stream",
     "text": [
      "Score in Linear Regression :  0.0009957379256853027\n"
     ]
    }
   ],
   "source": [
    "print(\"In-sample Score in Linear Regression : \",linreg.score(X_train,Y_train))"
   ]
  },
  {
   "cell_type": "code",
   "execution_count": 68,
   "id": "b2d91ed1",
   "metadata": {},
   "outputs": [
    {
     "name": "stdout",
     "output_type": "stream",
     "text": [
      "Out-sample Score in Linear Regression :  0.000880402027300442\n"
     ]
    }
   ],
   "source": [
    "print(\"Out-sample Score in Linear Regression : \",linreg.score(X_test,Y_test))"
   ]
  },
  {
   "cell_type": "code",
   "execution_count": 58,
   "id": "dde84399",
   "metadata": {},
   "outputs": [
    {
     "data": {
      "text/plain": [
       "SVR()"
      ]
     },
     "execution_count": 58,
     "metadata": {},
     "output_type": "execute_result"
    }
   ],
   "source": [
    "from sklearn.svm import SVR\n",
    "regressor = SVR(kernel = 'rbf')\n",
    "# fit the model on the data\n",
    "regressor.fit(X_train, Y_train)\n"
   ]
  },
  {
   "cell_type": "code",
   "execution_count": 96,
   "id": "42b19528",
   "metadata": {},
   "outputs": [
    {
     "data": {
      "text/plain": [
       "0.2984628192419282"
      ]
     },
     "execution_count": 96,
     "metadata": {},
     "output_type": "execute_result"
    }
   ],
   "source": [
    "predict=regressor.predict(X_test)\n",
    "r2_score(Y_test,predict)"
   ]
  },
  {
   "cell_type": "code",
   "execution_count": 66,
   "id": "02dff4f3",
   "metadata": {
    "scrolled": true
   },
   "outputs": [
    {
     "name": "stdout",
     "output_type": "stream",
     "text": [
      "Score using SVM Regression :  0.2984628192419282\n"
     ]
    }
   ],
   "source": [
    "print(\"Out-Sample Score using SVM Regression : \",regressor.score(X_test,Y_test))"
   ]
  },
  {
   "cell_type": "code",
   "execution_count": 67,
   "id": "b3c9cebf",
   "metadata": {},
   "outputs": [
    {
     "name": "stdout",
     "output_type": "stream",
     "text": [
      "Score using SVM Regression :  0.31803351701978566\n"
     ]
    }
   ],
   "source": [
    "print(\"In-Sample Score using SVM Regression : \",regressor.score(X_train,Y_train))"
   ]
  },
  {
   "cell_type": "code",
   "execution_count": 85,
   "id": "91ce8c5d",
   "metadata": {},
   "outputs": [
    {
     "data": {
      "text/plain": [
       "RandomForestRegressor(n_estimators=15)"
      ]
     },
     "execution_count": 85,
     "metadata": {},
     "output_type": "execute_result"
    }
   ],
   "source": [
    "##implement random forest\n",
    "from sklearn.ensemble import RandomForestRegressor\n",
    "rfreg = RandomForestRegressor(n_estimators = 15)\n",
    "rfreg.fit(X_train,Y_train)"
   ]
  },
  {
   "cell_type": "code",
   "execution_count": 86,
   "id": "cac7cdec",
   "metadata": {},
   "outputs": [],
   "source": [
    "predict = rfreg.predict(X_test)"
   ]
  },
  {
   "cell_type": "code",
   "execution_count": 94,
   "id": "12093eee",
   "metadata": {
    "scrolled": true
   },
   "outputs": [
    {
     "data": {
      "text/plain": [
       "0.420911282731005"
      ]
     },
     "execution_count": 94,
     "metadata": {},
     "output_type": "execute_result"
    }
   ],
   "source": [
    "r2_score(predict,Y_test)"
   ]
  },
  {
   "cell_type": "code",
   "execution_count": 88,
   "id": "f67c8b87",
   "metadata": {
    "scrolled": false
   },
   "outputs": [
    {
     "name": "stdout",
     "output_type": "stream",
     "text": [
      "In-Sample Score in Random Forest Regression :  0.9357301010037038\n"
     ]
    }
   ],
   "source": [
    "print(\"In-Sample Score in Random Forest Regression : \",rfreg.score(X_train,Y_train))"
   ]
  },
  {
   "cell_type": "code",
   "execution_count": 93,
   "id": "9b7e64b2",
   "metadata": {},
   "outputs": [
    {
     "name": "stdout",
     "output_type": "stream",
     "text": [
      "Out-Sample Score in Random Forest Regression :  0.5898137233982822\n"
     ]
    }
   ],
   "source": [
    "print(\"Out-Sample Score in Random Forest Regression : \",rfreg.score(X_test,Y_test))"
   ]
  },
  {
   "cell_type": "code",
   "execution_count": 90,
   "id": "1a2ea6a9",
   "metadata": {
    "scrolled": true
   },
   "outputs": [
    {
     "data": {
      "text/plain": [
       "0.289098104630075"
      ]
     },
     "execution_count": 90,
     "metadata": {},
     "output_type": "execute_result"
    }
   ],
   "source": [
    "from sklearn.tree import DecisionTreeRegressor\n",
    "dt_reg = DecisionTreeRegressor(criterion='mse', max_depth=None, random_state=42)\n",
    "dt_reg.fit(X_train, Y_train)\n",
    "#mean squared error will be optimal in such situations\n",
    "pred = dt_reg.predict(X_test)\n",
    "r2_score(pred,Y_test)"
   ]
  },
  {
   "cell_type": "code",
   "execution_count": 74,
   "id": "9ecc79d8",
   "metadata": {
    "scrolled": true
   },
   "outputs": [
    {
     "name": "stdout",
     "output_type": "stream",
     "text": [
      "In-sample Score in Decision Tree Regressor :  0.9966609742631071\n"
     ]
    }
   ],
   "source": [
    "print(\"In-sample Score in Decision Tree Regressor : \",dt_reg.score(X_train,Y_train))"
   ]
  },
  {
   "cell_type": "code",
   "execution_count": 75,
   "id": "ee0f9387",
   "metadata": {},
   "outputs": [
    {
     "name": "stdout",
     "output_type": "stream",
     "text": [
      "Out-sample Score in Decision Tree Regressor :  0.3021316942194703\n"
     ]
    }
   ],
   "source": [
    "print(\"Out-sample Score in Decision Tree Regressor : \",dt_reg.score(X_test,Y_test))"
   ]
  },
  {
   "cell_type": "code",
   "execution_count": 76,
   "id": "59b24cbb",
   "metadata": {
    "scrolled": true
   },
   "outputs": [
    {
     "data": {
      "image/png": "[encoded data removed]",
      "text/plain": [
       "<Figure size 1080x576 with 1 Axes>"
      ]
     },
     "metadata": {},
     "output_type": "display_data"
    }
   ],
   "source": [
    "from sklearn import tree\n",
    "plt.figure(figsize = (15,8))\n",
    "tree.plot_tree(dt_reg, max_depth = 2, fontsize = 15, feature_names=df1.columns)\n",
    "plt.title(\"<---------------------Decision Tree Split-------------------->\", fontsize = 20)\n",
    "plt.show()"
   ]
  },
  {
   "cell_type": "code",
   "execution_count": 102,
   "id": "c2341f08",
   "metadata": {
    "scrolled": true
   },
   "outputs": [
    {
     "name": "stdout",
     "output_type": "stream",
     "text": [
      "RMSE value for k=  1 is: 7.761902880952153\n",
      "RMSE value for k=  2 is: 6.890978038293434\n",
      "RMSE value for k=  3 is: 6.546890643476726\n",
      "RMSE value for k=  4 is: 6.387291502912782\n",
      "RMSE value for k=  5 is: 6.26200343828482\n",
      "RMSE value for k=  6 is: 6.220706509603192\n",
      "RMSE value for k=  7 is: 6.169404634201514\n",
      "RMSE value for k=  8 is: 6.140762922207742\n",
      "RMSE value for k=  9 is: 6.11421361262922\n",
      "RMSE value for k=  10 is: 6.091693841328933\n",
      "RMSE value for k=  11 is: 6.074929109227839\n",
      "RMSE value for k=  12 is: 6.058944442071109\n",
      "RMSE value for k=  13 is: 6.049822541980608\n",
      "RMSE value for k=  14 is: 6.038927399911663\n",
      "RMSE value for k=  15 is: 6.033299251643233\n",
      "RMSE value for k=  16 is: 6.022887357264802\n",
      "RMSE value for k=  17 is: 6.017481941594538\n",
      "RMSE value for k=  18 is: 6.009452970540999\n",
      "RMSE value for k=  19 is: 6.008438382184874\n",
      "RMSE value for k=  20 is: 5.999742003398853\n",
      "RMSE value for k=  21 is: 5.994584699083987\n",
      "RMSE value for k=  22 is: 5.990933836281597\n",
      "RMSE value for k=  23 is: 5.989579492767216\n",
      "RMSE value for k=  24 is: 5.988319012198336\n",
      "RMSE value for k=  25 is: 5.986720059275439\n",
      "RMSE value for k=  26 is: 5.985513390623029\n",
      "RMSE value for k=  27 is: 5.981213172552301\n",
      "RMSE value for k=  28 is: 5.977328663252419\n",
      "RMSE value for k=  29 is: 5.976928563644791\n",
      "RMSE value for k=  30 is: 5.978588520456649\n",
      "RMSE value for k=  31 is: 5.978488712964826\n",
      "RMSE value for k=  32 is: 5.977169045336245\n",
      "RMSE value for k=  33 is: 5.9806067405770476\n",
      "RMSE value for k=  34 is: 5.980541169151405\n",
      "RMSE value for k=  35 is: 5.980432881639892\n",
      "RMSE value for k=  36 is: 5.9795242441742475\n",
      "RMSE value for k=  37 is: 5.9807440960076725\n",
      "RMSE value for k=  38 is: 5.982818183020468\n",
      "RMSE value for k=  39 is: 5.979527224003648\n",
      "RMSE value for k=  40 is: 5.975209631977739\n",
      "RMSE value for k=  41 is: 5.9772838537831285\n",
      "RMSE value for k=  42 is: 5.978844555291334\n",
      "RMSE value for k=  43 is: 5.97860868868377\n",
      "RMSE value for k=  44 is: 5.9802742833722835\n",
      "RMSE value for k=  45 is: 5.980747982976861\n",
      "RMSE value for k=  46 is: 5.982194254374628\n",
      "RMSE value for k=  47 is: 5.981969679840772\n",
      "RMSE value for k=  48 is: 5.982781972814398\n",
      "RMSE value for k=  49 is: 5.984483391231826\n",
      "RMSE value for k=  50 is: 5.983955616220307\n"
     ]
    }
   ],
   "source": [
    "from sklearn import neighbors\n",
    "from math import sqrt\n",
    "from sklearn.metrics import mean_squared_error \n",
    "rmse_val = [] #to store rmse values for different k\n",
    "for K in range(50):\n",
    "    K = K+1\n",
    "    model = neighbors.KNeighborsRegressor(n_neighbors = K)\n",
    "\n",
    "    model.fit(X_train, Y_train)  #fit the model\n",
    "    pred=model.predict(X_test) #make prediction on test set\n",
    "    error = sqrt(mean_squared_error(Y_test,pred)) #calculate rmse\n",
    "    rmse_val.append(error) #store rmse values\n",
    "    print('RMSE value for k= ' , K , 'is:', error)"
   ]
  },
  {
   "cell_type": "code",
   "execution_count": 106,
   "id": "f555164f",
   "metadata": {
    "scrolled": true
   },
   "outputs": [
    {
     "data": {
      "text/plain": [
       "{'n_neighbors': 34}"
      ]
     },
     "execution_count": 106,
     "metadata": {},
     "output_type": "execute_result"
    }
   ],
   "source": [
    "#k=32 is the lowest, after that it shoots up\n",
    "#lets find for the test model\n",
    "from sklearn.model_selection import GridSearchCV\n",
    "params = {'n_neighbors':[27,28,29,30,31,32,33,34,35,36,37,38,39,40]}\n",
    "\n",
    "knn = neighbors.KNeighborsRegressor()\n",
    "\n",
    "model = GridSearchCV(knn, params, cv=5)\n",
    "model.fit(X_train,Y_train)\n",
    "model.best_params_\n",
    "\n",
    "\n"
   ]
  },
  {
   "cell_type": "code",
   "execution_count": null,
   "id": "acc08d95",
   "metadata": {},
   "outputs": [],
   "source": [
    "#not quite a difference with the trained model"
   ]
  },
  {
   "cell_type": "code",
   "execution_count": 107,
   "id": "76d2876a",
   "metadata": {},
   "outputs": [
    {
     "data": {
      "text/plain": [
       "0.35748740878127494"
      ]
     },
     "execution_count": 107,
     "metadata": {},
     "output_type": "execute_result"
    }
   ],
   "source": [
    "model = neighbors.KNeighborsRegressor(n_neighbors = 34)\n",
    "model.fit(X_train, Y_train)  #fit the model\n",
    "pred=model.predict(X_test)\n",
    "r2_score(pred,Y_test)"
   ]
  },
  {
   "cell_type": "code",
   "execution_count": 108,
   "id": "ba5911ee",
   "metadata": {},
   "outputs": [
    {
     "name": "stdout",
     "output_type": "stream",
     "text": [
      "In-sample Score in KNN Regressor :  0.6732797910958835\n"
     ]
    }
   ],
   "source": [
    "print(\"In-sample Score in KNN Regressor : \",model.score(X_train,Y_train))"
   ]
  },
  {
   "cell_type": "code",
   "execution_count": 109,
   "id": "40348aff",
   "metadata": {},
   "outputs": [
    {
     "name": "stdout",
     "output_type": "stream",
     "text": [
      "In-sample Score in KNN Regressor :  0.6145646980200474\n"
     ]
    }
   ],
   "source": [
    "print(\"In-sample Score in KNN Regressor : \",model.score(X_test,Y_test))"
   ]
  },
  {
   "cell_type": "code",
   "execution_count": 51,
   "id": "78c5df2d",
   "metadata": {},
   "outputs": [
    {
     "data": {
      "text/plain": [
       "BaggingRegressor(base_estimator=DecisionTreeRegressor(criterion='mse',\n",
       "                                                      random_state=42),\n",
       "                 n_estimators=100)"
      ]
     },
     "execution_count": 51,
     "metadata": {},
     "output_type": "execute_result"
    }
   ],
   "source": [
    "from sklearn.ensemble import BaggingRegressor\n",
    "bag_reg = BaggingRegressor(n_estimators=100,base_estimator=dt_reg)\n",
    "bag_reg.fit(X_train,Y_train)"
   ]
  },
  {
   "cell_type": "code",
   "execution_count": 80,
   "id": "b050484d",
   "metadata": {},
   "outputs": [
    {
     "data": {
      "text/plain": [
       "0.7781023763864243"
      ]
     },
     "execution_count": 80,
     "metadata": {},
     "output_type": "execute_result"
    }
   ],
   "source": [
    "Y_pred = bag_reg.predict(X_test)\n",
    "r2_score(Y_pred, Y_test)\n"
   ]
  },
  {
   "cell_type": "code",
   "execution_count": 78,
   "id": "5a838416",
   "metadata": {
    "scrolled": true
   },
   "outputs": [
    {
     "name": "stdout",
     "output_type": "stream",
     "text": [
      "In-sample Score in Bagging Regression :  0.8476800220387971\n"
     ]
    }
   ],
   "source": [
    "print(\"In-sample Score in Bagging Regression : \",bag_reg.score(X_train,Y_train))"
   ]
  },
  {
   "cell_type": "code",
   "execution_count": 79,
   "id": "81aa5fc1",
   "metadata": {},
   "outputs": [
    {
     "name": "stdout",
     "output_type": "stream",
     "text": [
      "Out-sample Score in Bagging Regression :  0.8299496719847087\n"
     ]
    }
   ],
   "source": [
    "print(\"Out-sample Score in Bagging Regression : \",bag_reg.score(X_test,Y_test))"
   ]
  },
  {
   "cell_type": "code",
   "execution_count": 53,
   "id": "39aed239",
   "metadata": {},
   "outputs": [
    {
     "data": {
      "text/plain": [
       "0.7781023763864243"
      ]
     },
     "execution_count": 53,
     "metadata": {},
     "output_type": "execute_result"
    }
   ],
   "source": [
    "from sklearn.ensemble import AdaBoostRegressor\n",
    "ada_reg=AdaBoostRegressor(learning_rate= 0.30, n_estimators=100)\n",
    "ada_reg.fit(X_train,Y_train)\n",
    "Y_pred = bag_reg.predict(X_test)\n",
    "r2_score(Y_pred, Y_test)"
   ]
  },
  {
   "cell_type": "code",
   "execution_count": 54,
   "id": "3c46e547",
   "metadata": {},
   "outputs": [
    {
     "name": "stdout",
     "output_type": "stream",
     "text": [
      "Score in ADABoost Regression :  0.5639992094092112\n"
     ]
    }
   ],
   "source": [
    "print(\"Score in ADABoost Regression : \",ada_reg.score(X_train,Y_train))"
   ]
  },
  {
   "cell_type": "code",
   "execution_count": 30,
   "id": "942527b3",
   "metadata": {
    "scrolled": true
   },
   "outputs": [
    {
     "data": {
      "text/plain": [
       "XGBRegressor(base_score=0.5, booster='gbtree', callbacks=None,\n",
       "             colsample_bylevel=1, colsample_bynode=1, colsample_bytree=1,\n",
       "             early_stopping_rounds=None, enable_categorical=False,\n",
       "             eval_metric=None, gamma=0, gpu_id=-1, grow_policy='depthwise',\n",
       "             importance_type=None, interaction_constraints='',\n",
       "             learning_rate=0.3, max_bin=256, max_cat_to_onehot=4,\n",
       "             max_delta_step=0, max_depth=6, max_leaves=0, min_child_weight=1,\n",
       "             missing=nan, monotone_constraints='()', n_estimators=100, n_jobs=0,\n",
       "             num_parallel_tree=1, predictor='auto', random_state=0, reg_alpha=0,\n",
       "             reg_lambda=1, ...)"
      ]
     },
     "execution_count": 30,
     "metadata": {},
     "output_type": "execute_result"
    }
   ],
   "source": [
    "#we will use xgboost for the supervised model\n",
    "from xgboost import XGBRegressor\n",
    "xgb_reg = XGBRegressor(learning_rate= 0.30, max_depth=6, n_estimators=100, n_jobs =0)\n",
    "xgb_reg.fit(X_train,Y_train)"
   ]
  },
  {
   "cell_type": "code",
   "execution_count": 81,
   "id": "7dbbe516",
   "metadata": {
    "scrolled": false
   },
   "outputs": [
    {
     "data": {
      "text/plain": [
       "0.6032645661997874"
      ]
     },
     "execution_count": 81,
     "metadata": {},
     "output_type": "execute_result"
    }
   ],
   "source": [
    "Y_pred = xgb_reg.predict(X_test)\n",
    "r2_score(Y_pred, Y_test)\n",
    "\n"
   ]
  },
  {
   "cell_type": "code",
   "execution_count": 82,
   "id": "7b47f0d8",
   "metadata": {
    "scrolled": true
   },
   "outputs": [
    {
     "name": "stdout",
     "output_type": "stream",
     "text": [
      "In-sample Score in XGBoost Regression :  0.7579663873854425\n"
     ]
    }
   ],
   "source": [
    "print(\"In-sample Score in XGBoost Regression : \",xgb_reg.score(X_train,Y_train))"
   ]
  },
  {
   "cell_type": "code",
   "execution_count": 83,
   "id": "42e0e7a9",
   "metadata": {},
   "outputs": [
    {
     "name": "stdout",
     "output_type": "stream",
     "text": [
      "Out-sample Score in XGBoost Regression :  0.719824322007606\n"
     ]
    }
   ],
   "source": [
    "print(\"Out-sample Score in XGBoost Regression : \",xgb_reg.score(X_test,Y_test))"
   ]
  },
  {
   "cell_type": "code",
   "execution_count": 143,
   "id": "fb6efa72",
   "metadata": {},
   "outputs": [],
   "source": [
    "from sklearn.model_selection import RandomizedSearchCV\n",
    "import numpy as np\n",
    "##configs\n",
    "n_estimators = [40,80,120,160]\n",
    "\n",
    "criterion = [\"mse\",\"mae\"]\n",
    "\n",
    "max_depth = [int(x) for x in np.linspace(10,200,10)]\n",
    "\n",
    "min_samples_split= [5,10,15]\n",
    "\n",
    "min_samples_leaf = [4,6,8,10]\n",
    "\n",
    "max_features = ['auto', 'sqrt', 'log2']\n",
    "param_grid = {\"n_estimators\":n_estimators, \"criterion\":criterion, \"max_depth\":max_depth, \"min_samples_split\":\n",
    "             min_samples_split, \"min_samples_leaf\":min_samples_leaf, \"max_features\":max_features}"
   ]
  },
  {
   "cell_type": "code",
   "execution_count": 146,
   "id": "1e42b825",
   "metadata": {
    "scrolled": true
   },
   "outputs": [
    {
     "name": "stdout",
     "output_type": "stream",
     "text": [
      "Fitting 2 folds for each of 10 candidates, totalling 20 fits\n"
     ]
    },
    {
     "name": "stderr",
     "output_type": "stream",
     "text": [
      "/usr/lib/python3.10/site-packages/sklearn/ensemble/_forest.py:396: FutureWarning: Criterion 'mse' was deprecated in v1.0 and will be removed in version 1.2. Use `criterion='squared_error'` which is equivalent.\n",
      "  warn(\n",
      "/usr/lib/python3.10/site-packages/sklearn/ensemble/_forest.py:403: FutureWarning: Criterion 'mae' was deprecated in v1.0 and will be removed in version 1.2. Use `criterion='absolute_error'` which is equivalent.\n",
      "  warn(\n",
      "/usr/lib/python3.10/site-packages/sklearn/ensemble/_forest.py:403: FutureWarning: Criterion 'mae' was deprecated in v1.0 and will be removed in version 1.2. Use `criterion='absolute_error'` which is equivalent.\n",
      "  warn(\n",
      "/usr/lib/python3.10/site-packages/sklearn/ensemble/_forest.py:396: FutureWarning: Criterion 'mse' was deprecated in v1.0 and will be removed in version 1.2. Use `criterion='squared_error'` which is equivalent.\n",
      "  warn(\n",
      "/usr/lib/python3.10/site-packages/sklearn/ensemble/_forest.py:403: FutureWarning: Criterion 'mae' was deprecated in v1.0 and will be removed in version 1.2. Use `criterion='absolute_error'` which is equivalent.\n",
      "  warn(\n",
      "/usr/lib/python3.10/site-packages/sklearn/ensemble/_forest.py:396: FutureWarning: Criterion 'mse' was deprecated in v1.0 and will be removed in version 1.2. Use `criterion='squared_error'` which is equivalent.\n",
      "  warn(\n",
      "/usr/lib/python3.10/site-packages/sklearn/ensemble/_forest.py:403: FutureWarning: Criterion 'mae' was deprecated in v1.0 and will be removed in version 1.2. Use `criterion='absolute_error'` which is equivalent.\n",
      "  warn(\n",
      "/usr/lib/python3.10/site-packages/sklearn/ensemble/_forest.py:403: FutureWarning: Criterion 'mae' was deprecated in v1.0 and will be removed in version 1.2. Use `criterion='absolute_error'` which is equivalent.\n",
      "  warn(\n",
      "/usr/lib/python3.10/site-packages/sklearn/ensemble/_forest.py:403: FutureWarning: Criterion 'mae' was deprecated in v1.0 and will be removed in version 1.2. Use `criterion='absolute_error'` which is equivalent.\n",
      "  warn(\n",
      "/usr/lib/python3.10/site-packages/sklearn/ensemble/_forest.py:403: FutureWarning: Criterion 'mae' was deprecated in v1.0 and will be removed in version 1.2. Use `criterion='absolute_error'` which is equivalent.\n",
      "  warn(\n",
      "/usr/lib/python3.10/site-packages/sklearn/ensemble/_forest.py:396: FutureWarning: Criterion 'mse' was deprecated in v1.0 and will be removed in version 1.2. Use `criterion='squared_error'` which is equivalent.\n",
      "  warn(\n",
      "/usr/lib/python3.10/site-packages/sklearn/ensemble/_forest.py:403: FutureWarning: Criterion 'mae' was deprecated in v1.0 and will be removed in version 1.2. Use `criterion='absolute_error'` which is equivalent.\n",
      "  warn(\n",
      "/usr/lib/python3.10/site-packages/sklearn/ensemble/_forest.py:403: FutureWarning: Criterion 'mae' was deprecated in v1.0 and will be removed in version 1.2. Use `criterion='absolute_error'` which is equivalent.\n",
      "  warn(\n",
      "/usr/lib/python3.10/site-packages/sklearn/ensemble/_forest.py:403: FutureWarning: Criterion 'mae' was deprecated in v1.0 and will be removed in version 1.2. Use `criterion='absolute_error'` which is equivalent.\n",
      "  warn(\n",
      "/usr/lib/python3.10/site-packages/sklearn/ensemble/_forest.py:403: FutureWarning: Criterion 'mae' was deprecated in v1.0 and will be removed in version 1.2. Use `criterion='absolute_error'` which is equivalent.\n",
      "  warn(\n",
      "/usr/lib/python3.10/site-packages/sklearn/ensemble/_forest.py:403: FutureWarning: Criterion 'mae' was deprecated in v1.0 and will be removed in version 1.2. Use `criterion='absolute_error'` which is equivalent.\n",
      "  warn(\n",
      "/usr/lib/python3.10/site-packages/sklearn/ensemble/_forest.py:396: FutureWarning: Criterion 'mse' was deprecated in v1.0 and will be removed in version 1.2. Use `criterion='squared_error'` which is equivalent.\n",
      "  warn(\n",
      "/usr/lib/python3.10/site-packages/sklearn/ensemble/_forest.py:396: FutureWarning: Criterion 'mse' was deprecated in v1.0 and will be removed in version 1.2. Use `criterion='squared_error'` which is equivalent.\n",
      "  warn(\n",
      "/usr/lib/python3.10/site-packages/sklearn/ensemble/_forest.py:403: FutureWarning: Criterion 'mae' was deprecated in v1.0 and will be removed in version 1.2. Use `criterion='absolute_error'` which is equivalent.\n",
      "  warn(\n",
      "/usr/lib/python3.10/site-packages/sklearn/ensemble/_forest.py:403: FutureWarning: Criterion 'mae' was deprecated in v1.0 and will be removed in version 1.2. Use `criterion='absolute_error'` which is equivalent.\n",
      "  warn(\n"
     ]
    },
    {
     "data": {
      "text/plain": [
       "RandomizedSearchCV(cv=2, estimator=RandomForestRegressor(), n_jobs=-1,\n",
       "                   param_distributions={'criterion': ['mse', 'mae'],\n",
       "                                        'max_depth': [10, 31, 52, 73, 94, 115,\n",
       "                                                      136, 157, 178, 200],\n",
       "                                        'max_features': ['auto', 'sqrt',\n",
       "                                                         'log2'],\n",
       "                                        'min_samples_leaf': [4, 6, 8, 10],\n",
       "                                        'min_samples_split': [5, 10, 15],\n",
       "                                        'n_estimators': [40, 80, 120, 160]},\n",
       "                   random_state=100, verbose=1)"
      ]
     },
     "execution_count": 146,
     "metadata": {},
     "output_type": "execute_result"
    }
   ],
   "source": [
    "rf_hyper = RandomForestRegressor()\n",
    "rf_randomcv = RandomizedSearchCV(estimator=rf_hyper, param_distributions=param_grid, n_iter=10, \n",
    "                                 cv = 2, verbose=1, random_state=100, n_jobs=-1)\n",
    "\n",
    "\n",
    "\n",
    "rf_randomcv.fit(X_train,Y_train)"
   ]
  },
  {
   "cell_type": "code",
   "execution_count": 145,
   "id": "fcbc6c5c",
   "metadata": {},
   "outputs": [],
   "source": [
    "import pickle\n",
    "filename = 'randomforest_Taxifare_model.pkl'\n",
    "\n",
    "pickle.dump(rfreg, open(filename,'wb'))\n"
   ]
  }
 ],
 "metadata": {
  "kernelspec": {
   "display_name": "Python 3 (ipykernel)",
   "language": "python",
   "name": "python3"
  },
  "language_info": {
   "codemirror_mode": {
    "name": "ipython",
    "version": 3
   },
   "file_extension": ".py",
   "mimetype": "text/x-python",
   "name": "python",
   "nbconvert_exporter": "python",
   "pygments_lexer": "ipython3",
   "version": "3.10.4"
  }
 },
 "nbformat": 4,
 "nbformat_minor": 5
}
